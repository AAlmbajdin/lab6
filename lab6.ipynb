{
 "cells": [
  {
   "metadata": {},
   "cell_type": "markdown",
   "source": [
    "# Греція: Інформація та Особливості\n",
    "\n",
    "## Основна інформація\n",
    "- **Площа:** ~131,957 км²  \n",
    "- **Населення:** ~10.4 мільйона (станом на 2023 рік)  \n",
    "- **Державний устрій:** Парламентська республіка  \n",
    "- **Столиця:** Афіни  \n",
    "\n",
    "## Видатні особистості\n",
    "- **Сократ** (*філософ*)  \n",
    "- **Арістотель** (*учений і філософ*)  \n",
    "- **Олександр Македонський** (*полководець та завойовник*)\n",
    "\n",
    "## Пам'ятки культури та природи\n",
    "1. **Акрополь в Афінах**  \n",
    "2. **Метеори**  \n",
    "3. **Дельфи: храм Аполлона**  \n",
    "4. **Острів Санторіні**\n",
    "\n",
    "---\n",
    "\n",
    "### Таблиця основної статистики\n",
    "\n",
    "| Показник       | Значення         |\n",
    "|-----------------|------------------|\n",
    "| Площа          | 131,957 км²      |\n",
    "| Населення      | 10.4 мільйона    |\n",
    "| Офіційна мова  | Грецька          |\n",
    "\n",
    "---\n",
    "\n",
    "### Вкладені списки\n",
    "- **Традиційна кухня:**\n",
    "  - Мусака\n",
    "  - Сувлакі\n",
    "  - Грецький салат\n",
    "- **Свята:**\n",
    "  - Великдень\n",
    "  - День незалежності (25 березня)\n",
    "\n",
    "---\n",
    "\n",
    "### Гіперпосилання та картинки\n",
    "[Вікіпедія про Грецію](https://uk.wikipedia.org/wiki/Греція)  \n",
    "\n",
    "**Краєвид Греції:**  \n",
    "![Акрополь в Афінах](https://upload.wikimedia.org/wikipedia/commons/7/74/Areopagus6.JPG)\n",
    "\n",
    "<svg width=\"300\" height=\"200\" viewBox=\"0 0 270 180\" xmlns=\"http://www.w3.org/2000/svg\">\n",
    "  <rect x=\"0\" y=\"0\"   width=\"270\" height=\"20\" fill=\"#0D5EAF\" />\n",
    "  <rect x=\"0\" y=\"20\"  width=\"270\" height=\"20\" fill=\"#FFFFFF\" />\n",
    "  <rect x=\"0\" y=\"40\"  width=\"270\" height=\"20\" fill=\"#0D5EAF\" />\n",
    "  <rect x=\"0\" y=\"60\"  width=\"270\" height=\"20\" fill=\"#FFFFFF\" />\n",
    "  <rect x=\"0\" y=\"80\"  width=\"270\" height=\"20\" fill=\"#0D5EAF\" />\n",
    "  <rect x=\"0\" y=\"100\" width=\"270\" height=\"20\" fill=\"#FFFFFF\" />\n",
    "  <rect x=\"0\" y=\"120\" width=\"270\" height=\"20\" fill=\"#0D5EAF\" />\n",
    "  <rect x=\"0\" y=\"140\" width=\"270\" height=\"20\" fill=\"#FFFFFF\" />\n",
    "  <rect x=\"0\" y=\"160\" width=\"270\" height=\"20\" fill=\"#0D5EAF\" />\n",
    "  <rect x=\"0\" y=\"0\" width=\"100\" height=\"100\" fill=\"#0D5EAF\" />\n",
    "  <rect x=\"0\" y=\"40\" width=\"100\" height=\"20\" fill=\"#FFFFFF\" />\n",
    "  <rect x=\"40\" y=\"0\" width=\"20\" height=\"100\" fill=\"#FFFFFF\" />\n",
    "</svg>\n",
    "\n"
   ],
   "id": "a43b1f320d4c7951"
  },
  {
   "cell_type": "code",
   "id": "initial_id",
   "metadata": {
    "collapsed": true,
    "ExecuteTime": {
     "end_time": "2024-12-21T13:28:52.224337Z",
     "start_time": "2024-12-21T13:28:52.216949Z"
    }
   },
   "source": [
    "def is_prime(n):\n",
    "    if n < 2:\n",
    "        return False\n",
    "    for i in range(2, int(n**0.5) + 1):\n",
    "        if n % i == 0:\n",
    "            return False\n",
    "    return True\n",
    "\n",
    "def goldbach_representation(n):\n",
    "    if n <= 2 or n % 2 != 0:\n",
    "        return \"Число має бути парним і більше за 2.\"\n",
    "    \n",
    "    for i in range(2, n):\n",
    "        if is_prime(i) and is_prime(n - i):\n",
    "            return f\"Число {n} можна представити як {i} + {n - i}\"\n",
    "    \n",
    "    return f\"Не вдалося знайти представлення для числа {n}.\"\n"
   ],
   "outputs": [],
   "execution_count": 1
  },
  {
   "metadata": {},
   "cell_type": "code",
   "outputs": [],
   "execution_count": null,
   "source": [
    "print(goldbach_representation(6))  # Число 6 можна представити як 3 + 3\n",
    "print(goldbach_representation(28)) # Число 28 можна представити як 5 + 23\n"
   ],
   "id": "e6252c135cf404fd"
  },
  {
   "metadata": {},
   "cell_type": "code",
   "outputs": [],
   "execution_count": null,
   "source": [
    "def task_4():\n",
    "    try:\n",
    "        numbers = input(\"Введіть список чисел через пробіл: \").split()\n",
    "        numbers = [int(num) for num in numbers]\n",
    "    except ValueError:\n",
    "        return \"Помилка. У списку присутнє нечислове значення.\"\n",
    "\n",
    "    even_numbers = [num for num in numbers if num % 2 == 0 and num > 2]\n",
    "    return [goldbach_representation(num) for num in even_numbers]"
   ],
   "id": "8eff15bec6eff53a"
  },
  {
   "metadata": {},
   "cell_type": "code",
   "outputs": [],
   "execution_count": null,
   "source": [
    "print(task_4()) \n",
    "# Введення: 6 28 15\n",
    "# Виведення: ['Число 6 можна представити як 3 + 3', 'Число 28 можна представити як 5 + 23']\n"
   ],
   "id": "2ea3b79180c0d31b"
  }
 ],
 "metadata": {
  "kernelspec": {
   "display_name": "Python 3",
   "language": "python",
   "name": "python3"
  },
  "language_info": {
   "codemirror_mode": {
    "name": "ipython",
    "version": 2
   },
   "file_extension": ".py",
   "mimetype": "text/x-python",
   "name": "python",
   "nbconvert_exporter": "python",
   "pygments_lexer": "ipython2",
   "version": "2.7.6"
  }
 },
 "nbformat": 4,
 "nbformat_minor": 5
}
